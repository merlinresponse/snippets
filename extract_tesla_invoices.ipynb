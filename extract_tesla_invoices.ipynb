{
 "cells": [
  {
   "cell_type": "code",
   "execution_count": 1,
   "id": "597b79b1",
   "metadata": {},
   "outputs": [
    {
     "name": "stdout",
     "output_type": "stream",
     "text": [
      "Files extracted successfully.\n"
     ]
    }
   ],
   "source": [
    "import os\n",
    "import shutil\n",
    "import zipfile\n",
    "\n",
    "def unzip_files(source_dir, destination_dir):\n",
    "    # Create the destination directory if it doesn't exist\n",
    "    if not os.path.exists(destination_dir):\n",
    "        os.makedirs(destination_dir)\n",
    "\n",
    "    # Iterate through the source directory\n",
    "    for root, _, files in os.walk(source_dir):\n",
    "        for file in files:\n",
    "            # Get the absolute path of the file\n",
    "            file_path = os.path.join(root, file)\n",
    "\n",
    "            # Extract files from zip archives\n",
    "            if file.endswith('.zip'):\n",
    "                zip_file = zipfile.ZipFile(file_path, 'r')\n",
    "                for name in zip_file.namelist():\n",
    "                    # Extract the file to the destination directory\n",
    "                    if not name.endswith('/') and '/' in name:  # Exclude files without directories\n",
    "                        file_name = os.path.basename(name)\n",
    "                        output_path = os.path.join(destination_dir, file_name)\n",
    "                        with zip_file.open(name) as source, open(output_path, 'wb') as target:\n",
    "                            shutil.copyfileobj(source, target)\n",
    "                zip_file.close()\n",
    "\n",
    "    print('Files extracted successfully.')\n",
    "\n",
    "# Example usage\n",
    "source_directory = 'zip'  # Directory containing the zip files\n",
    "destination_directory = 'result'  # Directory to copy the extracted files\n",
    "\n",
    "unzip_files(source_directory, destination_directory)\n"
   ]
  },
  {
   "cell_type": "code",
   "execution_count": null,
   "id": "bc499d49",
   "metadata": {},
   "outputs": [],
   "source": []
  }
 ],
 "metadata": {
  "kernelspec": {
   "display_name": "Python 3 (ipykernel)",
   "language": "python",
   "name": "python3"
  },
  "language_info": {
   "codemirror_mode": {
    "name": "ipython",
    "version": 3
   },
   "file_extension": ".py",
   "mimetype": "text/x-python",
   "name": "python",
   "nbconvert_exporter": "python",
   "pygments_lexer": "ipython3",
   "version": "3.9.7"
  }
 },
 "nbformat": 4,
 "nbformat_minor": 5
}
